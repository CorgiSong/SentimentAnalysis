{
 "cells": [
  {
   "cell_type": "code",
   "execution_count": 1,
   "metadata": {
    "collapsed": false
   },
   "outputs": [],
   "source": [
    "import sys\n",
    "reload(sys)\n",
    "sys.setdefaultencoding('utf8')"
   ]
  },
  {
   "cell_type": "code",
   "execution_count": 2,
   "metadata": {
    "collapsed": false
   },
   "outputs": [],
   "source": [
    "#!pip install python-twitter "
   ]
  },
  {
   "cell_type": "code",
   "execution_count": 3,
   "metadata": {
    "collapsed": true
   },
   "outputs": [],
   "source": [
    "#!pip install -U textblob\n",
    "#!python -m textblob.download_corpora"
   ]
  },
  {
   "cell_type": "code",
   "execution_count": 4,
   "metadata": {
    "collapsed": false
   },
   "outputs": [],
   "source": [
    "#!pip install textblob"
   ]
  },
  {
   "cell_type": "code",
   "execution_count": 5,
   "metadata": {
    "collapsed": false
   },
   "outputs": [],
   "source": [
    "#import tweepy\n",
    "import twitter\n",
    "from textblob import TextBlob"
   ]
  },
  {
   "cell_type": "code",
   "execution_count": 6,
   "metadata": {
    "collapsed": false
   },
   "outputs": [],
   "source": [
    "api = twitter.Api(consumer_key='Ecllhp6hUpjeFz14Sp84fOTmK',\n",
    "                 consumer_secret='wWMGD0db7pSbC39TuDFxQ6z84GaMPbck3T04w1JlSTKx19zopy',\n",
    "                 access_token_key='2455417567-YyIf76YAbN6sEydm4Z2EhXyuwyYtMCf6kTg70Ak',\n",
    "                 access_token_secret='E0kz81jDnLh2wICvXlAtPVhtwyA6e5JOoCljP3qYu94bO')\n",
    "\n",
    "# To see if this worked, use the command below, it will print out a bunch of details about your user account\n",
    "# and that's how you know you're all set to use the API\n",
    "print(api.VerifyCredentials())"
   ]
  },
  {
   "cell_type": "code",
   "execution_count": 7,
   "metadata": {
    "collapsed": false
   },
   "outputs": [
    {
     "name": "stdout",
     "output_type": "stream",
     "text": [
      "Hi there! What are we searching for today?\"#AmericanAirlines\"\n"
     ]
    }
   ],
   "source": [
    "def createTestData(search_string):\n",
    "    try:\n",
    "        tweets_fetched=api.GetSearch(search_string, count=100,lang='en')\n",
    "        # This will return a list with twitter.Status objects. These have attributes for \n",
    "        # text, hashtags etc of the tweet that you are fetching. \n",
    "        # The full documentation again, you can see by typing pydoc twitter.Status at the \n",
    "        # command prompt of your terminal \n",
    "        print \"Great! We fetched \"+str(len(tweets_fetched))+\" tweets with the term \"+search_string+\"!!\"\n",
    "        # We will fetch only the text for each of the tweets, and since these don't have labels yet, \n",
    "        # we will keep the label empty \n",
    "        return [{\"text\":status.text} for status in tweets_fetched]\n",
    "    except:\n",
    "        print \"Sorry there was an error!\"\n",
    "        return None\n",
    "    \n",
    "search_string=input(\"Hi there! What are we searching for today?\")\n",
    "testData=createTestData(search_string)"
   ]
  },
  {
   "cell_type": "code",
   "execution_count": 8,
   "metadata": {
    "collapsed": true
   },
   "outputs": [],
   "source": [
    "#get rid of the breaklines and carriage return\n",
    "for a in testData:\n",
    "    a['text']=a['text'].replace('\\n', '')"
   ]
  },
  {
   "cell_type": "code",
   "execution_count": 9,
   "metadata": {
    "collapsed": true
   },
   "outputs": [],
   "source": [
    "for a in testData:\n",
    "    a['text']=a['text'].replace('\\r', '')"
   ]
  },
  {
   "cell_type": "code",
   "execution_count": 10,
   "metadata": {
    "collapsed": true
   },
   "outputs": [],
   "source": [
    "testDataFile='C:\\Users\\songsu\\Desktop\\Sentiment Analysis/TestFile.csv'"
   ]
  },
  {
   "cell_type": "code",
   "execution_count": 11,
   "metadata": {
    "collapsed": true
   },
   "outputs": [],
   "source": [
    "# Write the testData to csvfile for Random Forest\n",
    "def WriteResultToCSV(tweetsData,Searchterm, ResultLabelFile):\n",
    "    import csv\n",
    "    with open(ResultLabelFile,'wb') as csvfile:\n",
    "        linewriter=csv.writer(csvfile,delimiter=',',quotechar=\"\\\"\")\n",
    "        for row in range(0,len(tweetsData)):\n",
    "            try:\n",
    "                linewriter.writerow([Searchterm,tweetsData[row]['text']])\n",
    "            except Exception:\n",
    "                print \"error\"\n",
    "    return None\n"
   ]
  },
  {
   "cell_type": "code",
   "execution_count": 12,
   "metadata": {
    "collapsed": false
   },
   "outputs": [],
   "source": [
    "Result=WriteResultToCSV(testData,search_string,testDataFile)"
   ]
  },
  {
   "cell_type": "code",
   "execution_count": 13,
   "metadata": {
    "collapsed": true
   },
   "outputs": [],
   "source": [
    "import re\n",
    "from nltk.tokenize import word_tokenize\n",
    "from string import punctuation \n",
    "from nltk.corpus import stopwords "
   ]
  },
  {
   "cell_type": "code",
   "execution_count": 14,
   "metadata": {
    "collapsed": false
   },
   "outputs": [],
   "source": [
    "#for a in testData:\n",
    "#    a['text']=unicode(a['text'], \"utf-8\")"
   ]
  },
  {
   "cell_type": "code",
   "execution_count": 15,
   "metadata": {
    "collapsed": true
   },
   "outputs": [],
   "source": [
    "for a in testData:\n",
    "    a['text']=a['text'].encode(\"utf-8\")"
   ]
  },
  {
   "cell_type": "code",
   "execution_count": 16,
   "metadata": {
    "collapsed": false
   },
   "outputs": [],
   "source": [
    "analysis=[]\n",
    "\n",
    "for row in range(0,len(testData)):\n",
    "#    print(testData[row]['text'])\n",
    "    analysis.append(TextBlob(testData[row]['text']))\n",
    "#    print(analysis.sentiment)"
   ]
  },
  {
   "cell_type": "code",
   "execution_count": 17,
   "metadata": {
    "collapsed": true
   },
   "outputs": [],
   "source": [
    "ResultLabel=[]\n",
    "\n",
    "for row in range(0,len(analysis)):\n",
    "    ResultLabel.append(analysis[row].sentiment)"
   ]
  },
  {
   "cell_type": "code",
   "execution_count": 18,
   "metadata": {
    "collapsed": false
   },
   "outputs": [],
   "source": [
    "import re\n",
    "PolarLabel = []\n",
    "SubjLabel = []\n",
    "for sentiment in ResultLabel:\n",
    "    PolarLabel.append(sentiment[0])\n",
    "    SubjLabel.append(sentiment[1])  "
   ]
  },
  {
   "cell_type": "code",
   "execution_count": 19,
   "metadata": {
    "collapsed": false
   },
   "outputs": [],
   "source": [
    "SentiLabel=[]\n",
    "for row in range(0,len(PolarLabel)):\n",
    "    if PolarLabel[row]>0:\n",
    "        SentiLabel.append(\"Positive\")\n",
    "    elif PolarLabel[row]<0:\n",
    "        SentiLabel.append(\"Negative\")\n",
    "    else:\n",
    "        SentiLabel.append(\"Neutral\")"
   ]
  },
  {
   "cell_type": "code",
   "execution_count": 20,
   "metadata": {
    "collapsed": true
   },
   "outputs": [],
   "source": [
    "ResultLabelFile='C:/Users/songsu/Desktop/Spotfire_Sentiment Analysis/Result_TextBlob.csv'"
   ]
  },
  {
   "cell_type": "code",
   "execution_count": 21,
   "metadata": {
    "collapsed": false
   },
   "outputs": [],
   "source": [
    "# Write the result to csvfile to be imported to Spotfire\n",
    "def WriteResultToCSV(tweetsData,SentiLabel,Searchterm, ResultLabelFile):\n",
    "    import csv\n",
    "    with open(ResultLabelFile,'wb') as csvfile:\n",
    "        linewriter=csv.writer(csvfile,delimiter=',',quotechar=\"\\\"\")\n",
    "        for row in range(0,len(tweetsData)):\n",
    "            try:\n",
    "                linewriter.writerow([Searchterm, SentiLabel[row],tweetsData[row]['text']])\n",
    "            except Exception:\n",
    "                print \"error\"\n",
    "    return None\n"
   ]
  },
  {
   "cell_type": "code",
   "execution_count": 22,
   "metadata": {
    "collapsed": false
   },
   "outputs": [],
   "source": [
    "Result=WriteResultToCSV(testData,SentiLabel,search_string,ResultLabelFile)\n",
    "# Result=WriteResultToCSV(testData,NBResultLabels,search_string,ResultLabelFile)"
   ]
  },
  {
   "cell_type": "code",
   "execution_count": null,
   "metadata": {
    "collapsed": true
   },
   "outputs": [],
   "source": []
  }
 ],
 "metadata": {
  "kernelspec": {
   "display_name": "Python 2",
   "language": "python",
   "name": "python2"
  },
  "language_info": {
   "codemirror_mode": {
    "name": "ipython",
    "version": 2
   },
   "file_extension": ".py",
   "mimetype": "text/x-python",
   "name": "python",
   "nbconvert_exporter": "python",
   "pygments_lexer": "ipython2",
   "version": "2.7.13"
  }
 },
 "nbformat": 4,
 "nbformat_minor": 2
}
