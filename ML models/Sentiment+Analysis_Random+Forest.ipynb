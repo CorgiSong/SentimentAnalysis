{
 "cells": [
  {
   "cell_type": "code",
   "execution_count": 1,
   "metadata": {
    "collapsed": false
   },
   "outputs": [
    {
     "name": "stdout",
     "output_type": "stream",
     "text": [
      "Collecting numpy==1.9.2 (from -r requirements.txt (line 1))\n",
      "  Using cached numpy-1.9.2.zip\n",
      "Requirement already satisfied: scipy in c:\\users\\songsu\\appdata\\local\\continuum\\anaconda2\\lib\\site-packages (from -r requirements.txt (line 2))\n",
      "Requirement already satisfied: scikit-learn in c:\\users\\songsu\\appdata\\local\\continuum\\anaconda2\\lib\\site-packages (from -r requirements.txt (line 3))\n",
      "Requirement already satisfied: nltk in c:\\users\\songsu\\appdata\\local\\continuum\\anaconda2\\lib\\site-packages (from -r requirements.txt (line 4))\n",
      "Collecting pandas==0.16.0 (from -r requirements.txt (line 5))\n",
      "  Using cached pandas-0.16.0-cp27-none-win_amd64.whl\n",
      "Requirement already satisfied: beautifulsoup4 in c:\\users\\songsu\\appdata\\local\\continuum\\anaconda2\\lib\\site-packages (from -r requirements.txt (line 6))\n",
      "Requirement already satisfied: six in c:\\users\\songsu\\appdata\\local\\continuum\\anaconda2\\lib\\site-packages (from nltk->-r requirements.txt (line 4))\n",
      "Requirement already satisfied: pytz>=2011k in c:\\users\\songsu\\appdata\\local\\continuum\\anaconda2\\lib\\site-packages (from pandas==0.16.0->-r requirements.txt (line 5))\n",
      "Requirement already satisfied: python-dateutil in c:\\users\\songsu\\appdata\\local\\continuum\\anaconda2\\lib\\site-packages (from pandas==0.16.0->-r requirements.txt (line 5))\n",
      "Building wheels for collected packages: numpy\n",
      "  Running setup.py bdist_wheel for numpy: started\n",
      "  Running setup.py bdist_wheel for numpy: finished with status 'error'\n",
      "  Complete output from command C:\\Users\\songsu\\AppData\\Local\\Continuum\\Anaconda2\\python.exe -u -c \"import setuptools, tokenize;__file__='c:\\\\users\\\\songsu\\\\appdata\\\\local\\\\temp\\\\pip-build-o5qff8\\\\numpy\\\\setup.py';f=getattr(tokenize, 'open', open)(__file__);code=f.read().replace('\\r\\n', '\\n');f.close();exec(compile(code, __file__, 'exec'))\" bdist_wheel -d c:\\users\\songsu\\appdata\\local\\temp\\tmpjy6yrgpip-wheel- --python-tag cp27:\n",
      "  Running from numpy source directory.\n",
      "  non-existing path in 'numpy\\\\distutils': 'site.cfg'\n",
      "  non-existing path in 'numpy\\\\f2py': 'docs'\n",
      "  non-existing path in 'numpy\\\\f2py': 'f2py.1'\n",
      "  F2PY Version 2\n",
      "  blas_opt_info:\n",
      "  blas_mkl_info:\n",
      "    libraries mkl,vml,guide not found in ['C:\\\\Users\\\\songsu\\\\AppData\\\\Local\\\\Continuum\\\\Anaconda2\\\\lib', 'C:\\\\', 'C:\\\\Users\\\\songsu\\\\AppData\\\\Local\\\\Continuum\\\\Anaconda2\\\\libs']\n",
      "    NOT AVAILABLE\n",
      "  \n",
      "  openblas_info:\n",
      "    libraries openblas not found in ['C:\\\\Users\\\\songsu\\\\AppData\\\\Local\\\\Continuum\\\\Anaconda2\\\\lib', 'C:\\\\', 'C:\\\\Users\\\\songsu\\\\AppData\\\\Local\\\\Continuum\\\\Anaconda2\\\\libs']\n",
      "    NOT AVAILABLE\n",
      "  \n",
      "  atlas_3_10_blas_threads_info:\n",
      "  Setting PTATLAS=ATLAS\n",
      "    libraries tatlas not found in ['C:\\\\Users\\\\songsu\\\\AppData\\\\Local\\\\Continuum\\\\Anaconda2\\\\lib', 'C:\\\\', 'C:\\\\Users\\\\songsu\\\\AppData\\\\Local\\\\Continuum\\\\Anaconda2\\\\libs']\n",
      "    NOT AVAILABLE\n",
      "  \n",
      "  atlas_3_10_blas_info:\n",
      "    libraries satlas not found in ['C:\\\\Users\\\\songsu\\\\AppData\\\\Local\\\\Continuum\\\\Anaconda2\\\\lib', 'C:\\\\', 'C:\\\\Users\\\\songsu\\\\AppData\\\\Local\\\\Continuum\\\\Anaconda2\\\\libs']\n",
      "    NOT AVAILABLE\n",
      "  \n",
      "  atlas_blas_threads_info:\n",
      "  Setting PTATLAS=ATLAS\n",
      "    libraries ptf77blas,ptcblas,atlas not found in ['C:\\\\Users\\\\songsu\\\\AppData\\\\Local\\\\Continuum\\\\Anaconda2\\\\lib', 'C:\\\\', 'C:\\\\Users\\\\songsu\\\\AppData\\\\Local\\\\Continuum\\\\Anaconda2\\\\libs']\n",
      "    NOT AVAILABLE\n",
      "  \n",
      "  atlas_blas_info:\n",
      "    libraries f77blas,cblas,atlas not found in ['C:\\\\Users\\\\songsu\\\\AppData\\\\Local\\\\Continuum\\\\Anaconda2\\\\lib', 'C:\\\\', 'C:\\\\Users\\\\songsu\\\\AppData\\\\Local\\\\Continuum\\\\Anaconda2\\\\libs']\n",
      "    NOT AVAILABLE\n",
      "  \n",
      "  c:\\users\\songsu\\appdata\\local\\temp\\pip-build-o5qff8\\numpy\\numpy\\distutils\\system_info.py:1603: UserWarning:\n",
      "      Atlas (http://math-atlas.sourceforge.net/) libraries not found.\n",
      "      Directories to search for the libraries can be specified in the\n",
      "      numpy/distutils/site.cfg file (section [atlas]) or by setting\n",
      "      the ATLAS environment variable.\n",
      "    warnings.warn(AtlasNotFoundError.__doc__)\n",
      "  blas_info:\n",
      "    libraries blas not found in ['C:\\\\Users\\\\songsu\\\\AppData\\\\Local\\\\Continuum\\\\Anaconda2\\\\lib', 'C:\\\\', 'C:\\\\Users\\\\songsu\\\\AppData\\\\Local\\\\Continuum\\\\Anaconda2\\\\libs']\n",
      "    NOT AVAILABLE\n",
      "  \n",
      "  c:\\users\\songsu\\appdata\\local\\temp\\pip-build-o5qff8\\numpy\\numpy\\distutils\\system_info.py:1612: UserWarning:\n",
      "      Blas (http://www.netlib.org/blas/) libraries not found.\n",
      "      Directories to search for the libraries can be specified in the\n",
      "      numpy/distutils/site.cfg file (section [blas]) or by setting\n",
      "      the BLAS environment variable.\n",
      "    warnings.warn(BlasNotFoundError.__doc__)\n",
      "  blas_src_info:\n",
      "    NOT AVAILABLE\n",
      "  \n",
      "  c:\\users\\songsu\\appdata\\local\\temp\\pip-build-o5qff8\\numpy\\numpy\\distutils\\system_info.py:1615: UserWarning:\n",
      "      Blas (http://www.netlib.org/blas/) sources not found.\n",
      "      Directories to search for the sources can be specified in the\n",
      "      numpy/distutils/site.cfg file (section [blas_src]) or by setting\n",
      "      the BLAS_SRC environment variable.\n",
      "    warnings.warn(BlasSrcNotFoundError.__doc__)\n",
      "    NOT AVAILABLE\n",
      "  \n",
      "  non-existing path in 'numpy\\\\lib': 'benchmarks'\n",
      "  lapack_opt_info:\n",
      "  openblas_lapack_info:\n",
      "    libraries openblas not found in ['C:\\\\Users\\\\songsu\\\\AppData\\\\Local\\\\Continuum\\\\Anaconda2\\\\lib', 'C:\\\\', 'C:\\\\Users\\\\songsu\\\\AppData\\\\Local\\\\Continuum\\\\Anaconda2\\\\libs']\n",
      "    NOT AVAILABLE\n",
      "  \n",
      "  lapack_mkl_info:\n",
      "  mkl_info:\n",
      "    libraries mkl,vml,guide not found in ['C:\\\\Users\\\\songsu\\\\AppData\\\\Local\\\\Continuum\\\\Anaconda2\\\\lib', 'C:\\\\', 'C:\\\\Users\\\\songsu\\\\AppData\\\\Local\\\\Continuum\\\\Anaconda2\\\\libs']\n",
      "    NOT AVAILABLE\n",
      "  \n",
      "    NOT AVAILABLE\n",
      "  \n",
      "  atlas_3_10_threads_info:\n",
      "  Setting PTATLAS=ATLAS\n",
      "    libraries tatlas,tatlas not found in C:\\Users\\songsu\\AppData\\Local\\Continuum\\Anaconda2\\lib\n",
      "    libraries lapack_atlas not found in C:\\Users\\songsu\\AppData\\Local\\Continuum\\Anaconda2\\lib\n",
      "    libraries tatlas,tatlas not found in C:\\\n",
      "    libraries lapack_atlas not found in C:\\\n",
      "    libraries tatlas,tatlas not found in C:\\Users\\songsu\\AppData\\Local\\Continuum\\Anaconda2\\libs\n",
      "    libraries lapack_atlas not found in C:\\Users\\songsu\\AppData\\Local\\Continuum\\Anaconda2\\libs\n",
      "  numpy.distutils.system_info.atlas_3_10_threads_info\n",
      "    NOT AVAILABLE\n",
      "  \n",
      "  atlas_3_10_info:\n",
      "    libraries satlas,satlas not found in C:\\Users\\songsu\\AppData\\Local\\Continuum\\Anaconda2\\lib\n",
      "    libraries lapack_atlas not found in C:\\Users\\songsu\\AppData\\Local\\Continuum\\Anaconda2\\lib\n",
      "    libraries satlas,satlas not found in C:\\\n",
      "    libraries lapack_atlas not found in C:\\\n",
      "    libraries satlas,satlas not found in C:\\Users\\songsu\\AppData\\Local\\Continuum\\Anaconda2\\libs\n",
      "    libraries lapack_atlas not found in C:\\Users\\songsu\\AppData\\Local\\Continuum\\Anaconda2\\libs\n",
      "  numpy.distutils.system_info.atlas_3_10_info\n",
      "    NOT AVAILABLE\n",
      "  \n",
      "  atlas_threads_info:\n",
      "  Setting PTATLAS=ATLAS\n",
      "    libraries ptf77blas,ptcblas,atlas not found in C:\\Users\\songsu\\AppData\\Local\\Continuum\\Anaconda2\\lib\n",
      "    libraries lapack_atlas not found in C:\\Users\\songsu\\AppData\\Local\\Continuum\\Anaconda2\\lib\n",
      "    libraries ptf77blas,ptcblas,atlas not found in C:\\\n",
      "    libraries lapack_atlas not found in C:\\\n",
      "    libraries ptf77blas,ptcblas,atlas not found in C:\\Users\\songsu\\AppData\\Local\\Continuum\\Anaconda2\\libs\n",
      "    libraries lapack_atlas not found in C:\\Users\\songsu\\AppData\\Local\\Continuum\\Anaconda2\\libs\n",
      "  numpy.distutils.system_info.atlas_threads_info\n",
      "    NOT AVAILABLE\n",
      "  \n",
      "  atlas_info:\n",
      "    libraries f77blas,cblas,atlas not found in C:\\Users\\songsu\\AppData\\Local\\Continuum\\Anaconda2\\lib\n",
      "    libraries lapack_atlas not found in C:\\Users\\songsu\\AppData\\Local\\Continuum\\Anaconda2\\lib\n",
      "    libraries f77blas,cblas,atlas not found in C:\\\n",
      "    libraries lapack_atlas not found in C:\\\n",
      "    libraries f77blas,cblas,atlas not found in C:\\Users\\songsu\\AppData\\Local\\Continuum\\Anaconda2\\libs\n",
      "    libraries lapack_atlas not found in C:\\Users\\songsu\\AppData\\Local\\Continuum\\Anaconda2\\libs\n",
      "  numpy.distutils.system_info.atlas_info\n",
      "    NOT AVAILABLE\n",
      "  \n",
      "  c:\\users\\songsu\\appdata\\local\\temp\\pip-build-o5qff8\\numpy\\numpy\\distutils\\system_info.py:1505: UserWarning:\n",
      "      Atlas (http://math-atlas.sourceforge.net/) libraries not found.\n",
      "      Directories to search for the libraries can be specified in the\n",
      "      numpy/distutils/site.cfg file (section [atlas]) or by setting\n",
      "      the ATLAS environment variable.\n",
      "    warnings.warn(AtlasNotFoundError.__doc__)\n",
      "  lapack_info:\n",
      "    libraries lapack not found in ['C:\\\\Users\\\\songsu\\\\AppData\\\\Local\\\\Continuum\\\\Anaconda2\\\\lib', 'C:\\\\', 'C:\\\\Users\\\\songsu\\\\AppData\\\\Local\\\\Continuum\\\\Anaconda2\\\\libs']\n",
      "    NOT AVAILABLE\n",
      "  \n",
      "  c:\\users\\songsu\\appdata\\local\\temp\\pip-build-o5qff8\\numpy\\numpy\\distutils\\system_info.py:1516: UserWarning:\n",
      "      Lapack (http://www.netlib.org/lapack/) libraries not found.\n",
      "      Directories to search for the libraries can be specified in the\n",
      "      numpy/distutils/site.cfg file (section [lapack]) or by setting\n",
      "      the LAPACK environment variable.\n",
      "    warnings.warn(LapackNotFoundError.__doc__)\n",
      "  lapack_src_info:\n",
      "    NOT AVAILABLE\n",
      "  \n",
      "  c:\\users\\songsu\\appdata\\local\\temp\\pip-build-o5qff8\\numpy\\numpy\\distutils\\system_info.py:1519: UserWarning:\n",
      "      Lapack (http://www.netlib.org/lapack/) sources not found.\n",
      "      Directories to search for the sources can be specified in the\n",
      "      numpy/distutils/site.cfg file (section [lapack_src]) or by setting\n",
      "      the LAPACK_SRC environment variable.\n",
      "    warnings.warn(LapackSrcNotFoundError.__doc__)\n",
      "    NOT AVAILABLE\n",
      "  \n",
      "  C:\\Users\\songsu\\AppData\\Local\\Continuum\\Anaconda2\\lib\\distutils\\dist.py:267: UserWarning: Unknown distribution option: 'define_macros'\n",
      "    warnings.warn(msg)\n",
      "  running bdist_wheel\n",
      "  running build\n",
      "  running config_cc\n",
      "  unifing config_cc, config, build_clib, build_ext, build commands --compiler options\n",
      "  running config_fc\n",
      "  unifing config_fc, config, build_clib, build_ext, build commands --fcompiler options\n",
      "  running build_src\n",
      "  build_src\n",
      "  building py_modules sources\n",
      "  creating build\n",
      "  creating build\\src.win-amd64-2.7\n",
      "  creating build\\src.win-amd64-2.7\\numpy\n",
      "  creating build\\src.win-amd64-2.7\\numpy\\distutils\n",
      "  building library \"npymath\" sources\n",
      "  No module named msvccompiler in numpy.distutils; trying from distutils\n",
      "  error: Microsoft Visual C++ 9.0 is required. Get it from http://aka.ms/vcpython27\n",
      "  \n",
      "  ----------------------------------------\n",
      "  Running setup.py clean for numpy\n",
      "Failed to build numpy\n",
      "Installing collected packages: numpy, pandas\n",
      "  Found existing installation: numpy 1.11.3\n",
      "    Uninstalling numpy-1.11.3:\n",
      "      Successfully uninstalled numpy-1.11.3\n",
      "  Running setup.py install for numpy: started\n",
      "    Running setup.py install for numpy: finished with status 'error'\n",
      "    Complete output from command C:\\Users\\songsu\\AppData\\Local\\Continuum\\Anaconda2\\python.exe -u -c \"import setuptools, tokenize;__file__='c:\\\\users\\\\songsu\\\\appdata\\\\local\\\\temp\\\\pip-build-o5qff8\\\\numpy\\\\setup.py';f=getattr(tokenize, 'open', open)(__file__);code=f.read().replace('\\r\\n', '\\n');f.close();exec(compile(code, __file__, 'exec'))\" install --record c:\\users\\songsu\\appdata\\local\\temp\\pip-to119c-record\\install-record.txt --single-version-externally-managed --compile:\n",
      "    Running from numpy source directory.\n",
      "    non-existing path in 'numpy\\\\distutils': 'site.cfg'\n",
      "    non-existing path in 'numpy\\\\f2py': 'docs'\n",
      "    non-existing path in 'numpy\\\\f2py': 'f2py.1'\n",
      "    F2PY Version 2\n",
      "    blas_opt_info:\n",
      "    blas_mkl_info:\n",
      "      libraries mkl,vml,guide not found in ['C:\\\\Users\\\\songsu\\\\AppData\\\\Local\\\\Continuum\\\\Anaconda2\\\\lib', 'C:\\\\', 'C:\\\\Users\\\\songsu\\\\AppData\\\\Local\\\\Continuum\\\\Anaconda2\\\\libs']\n",
      "      NOT AVAILABLE\n",
      "    \n",
      "    openblas_info:\n",
      "      libraries openblas not found in ['C:\\\\Users\\\\songsu\\\\AppData\\\\Local\\\\Continuum\\\\Anaconda2\\\\lib', 'C:\\\\', 'C:\\\\Users\\\\songsu\\\\AppData\\\\Local\\\\Continuum\\\\Anaconda2\\\\libs']\n",
      "      NOT AVAILABLE\n",
      "    \n",
      "    atlas_3_10_blas_threads_info:\n",
      "    Setting PTATLAS=ATLAS\n",
      "      libraries tatlas not found in ['C:\\\\Users\\\\songsu\\\\AppData\\\\Local\\\\Continuum\\\\Anaconda2\\\\lib', 'C:\\\\', 'C:\\\\Users\\\\songsu\\\\AppData\\\\Local\\\\Continuum\\\\Anaconda2\\\\libs']\n",
      "      NOT AVAILABLE\n",
      "    \n",
      "    atlas_3_10_blas_info:\n",
      "      libraries satlas not found in ['C:\\\\Users\\\\songsu\\\\AppData\\\\Local\\\\Continuum\\\\Anaconda2\\\\lib', 'C:\\\\', 'C:\\\\Users\\\\songsu\\\\AppData\\\\Local\\\\Continuum\\\\Anaconda2\\\\libs']\n",
      "      NOT AVAILABLE\n",
      "    \n",
      "    atlas_blas_threads_info:\n",
      "    Setting PTATLAS=ATLAS\n",
      "      libraries ptf77blas,ptcblas,atlas not found in ['C:\\\\Users\\\\songsu\\\\AppData\\\\Local\\\\Continuum\\\\Anaconda2\\\\lib', 'C:\\\\', 'C:\\\\Users\\\\songsu\\\\AppData\\\\Local\\\\Continuum\\\\Anaconda2\\\\libs']\n",
      "      NOT AVAILABLE\n",
      "    \n",
      "    atlas_blas_info:\n",
      "      libraries f77blas,cblas,atlas not found in ['C:\\\\Users\\\\songsu\\\\AppData\\\\Local\\\\Continuum\\\\Anaconda2\\\\lib', 'C:\\\\', 'C:\\\\Users\\\\songsu\\\\AppData\\\\Local\\\\Continuum\\\\Anaconda2\\\\libs']\n",
      "      NOT AVAILABLE\n",
      "    \n",
      "    c:\\users\\songsu\\appdata\\local\\temp\\pip-build-o5qff8\\numpy\\numpy\\distutils\\system_info.py:1603: UserWarning:\n",
      "        Atlas (http://math-atlas.sourceforge.net/) libraries not found.\n",
      "        Directories to search for the libraries can be specified in the\n",
      "        numpy/distutils/site.cfg file (section [atlas]) or by setting\n",
      "        the ATLAS environment variable.\n",
      "      warnings.warn(AtlasNotFoundError.__doc__)\n",
      "    blas_info:\n",
      "      libraries blas not found in ['C:\\\\Users\\\\songsu\\\\AppData\\\\Local\\\\Continuum\\\\Anaconda2\\\\lib', 'C:\\\\', 'C:\\\\Users\\\\songsu\\\\AppData\\\\Local\\\\Continuum\\\\Anaconda2\\\\libs']\n",
      "      NOT AVAILABLE\n",
      "    \n",
      "    c:\\users\\songsu\\appdata\\local\\temp\\pip-build-o5qff8\\numpy\\numpy\\distutils\\system_info.py:1612: UserWarning:\n",
      "        Blas (http://www.netlib.org/blas/) libraries not found.\n",
      "        Directories to search for the libraries can be specified in the\n",
      "        numpy/distutils/site.cfg file (section [blas]) or by setting\n",
      "        the BLAS environment variable.\n",
      "      warnings.warn(BlasNotFoundError.__doc__)\n",
      "    blas_src_info:\n",
      "      NOT AVAILABLE\n",
      "    \n",
      "    c:\\users\\songsu\\appdata\\local\\temp\\pip-build-o5qff8\\numpy\\numpy\\distutils\\system_info.py:1615: UserWarning:\n",
      "        Blas (http://www.netlib.org/blas/) sources not found.\n",
      "        Directories to search for the sources can be specified in the\n",
      "        numpy/distutils/site.cfg file (section [blas_src]) or by setting\n",
      "        the BLAS_SRC environment variable.\n",
      "      warnings.warn(BlasSrcNotFoundError.__doc__)\n",
      "      NOT AVAILABLE\n",
      "    \n",
      "    non-existing path in 'numpy\\\\lib': 'benchmarks'\n",
      "    lapack_opt_info:\n",
      "    openblas_lapack_info:\n",
      "      libraries openblas not found in ['C:\\\\Users\\\\songsu\\\\AppData\\\\Local\\\\Continuum\\\\Anaconda2\\\\lib', 'C:\\\\', 'C:\\\\Users\\\\songsu\\\\AppData\\\\Local\\\\Continuum\\\\Anaconda2\\\\libs']\n",
      "      NOT AVAILABLE\n",
      "    \n",
      "    lapack_mkl_info:\n",
      "    mkl_info:\n",
      "      libraries mkl,vml,guide not found in ['C:\\\\Users\\\\songsu\\\\AppData\\\\Local\\\\Continuum\\\\Anaconda2\\\\lib', 'C:\\\\', 'C:\\\\Users\\\\songsu\\\\AppData\\\\Local\\\\Continuum\\\\Anaconda2\\\\libs']\n",
      "      NOT AVAILABLE\n",
      "    \n",
      "      NOT AVAILABLE\n",
      "    \n",
      "    atlas_3_10_threads_info:\n",
      "    Setting PTATLAS=ATLAS\n",
      "      libraries tatlas,tatlas not found in C:\\Users\\songsu\\AppData\\Local\\Continuum\\Anaconda2\\lib\n",
      "      libraries lapack_atlas not found in C:\\Users\\songsu\\AppData\\Local\\Continuum\\Anaconda2\\lib\n",
      "      libraries tatlas,tatlas not found in C:\\\n",
      "      libraries lapack_atlas not found in C:\\\n",
      "      libraries tatlas,tatlas not found in C:\\Users\\songsu\\AppData\\Local\\Continuum\\Anaconda2\\libs\n",
      "      libraries lapack_atlas not found in C:\\Users\\songsu\\AppData\\Local\\Continuum\\Anaconda2\\libs\n",
      "    numpy.distutils.system_info.atlas_3_10_threads_info\n",
      "      NOT AVAILABLE\n",
      "    \n",
      "    atlas_3_10_info:\n",
      "      libraries satlas,satlas not found in C:\\Users\\songsu\\AppData\\Local\\Continuum\\Anaconda2\\lib\n",
      "      libraries lapack_atlas not found in C:\\Users\\songsu\\AppData\\Local\\Continuum\\Anaconda2\\lib\n",
      "      libraries satlas,satlas not found in C:\\\n",
      "      libraries lapack_atlas not found in C:\\\n",
      "      libraries satlas,satlas not found in C:\\Users\\songsu\\AppData\\Local\\Continuum\\Anaconda2\\libs\n",
      "      libraries lapack_atlas not found in C:\\Users\\songsu\\AppData\\Local\\Continuum\\Anaconda2\\libs\n",
      "    numpy.distutils.system_info.atlas_3_10_info\n",
      "      NOT AVAILABLE\n",
      "    \n",
      "    atlas_threads_info:\n",
      "    Setting PTATLAS=ATLAS\n",
      "      libraries ptf77blas,ptcblas,atlas not found in C:\\Users\\songsu\\AppData\\Local\\Continuum\\Anaconda2\\lib\n",
      "      libraries lapack_atlas not found in C:\\Users\\songsu\\AppData\\Local\\Continuum\\Anaconda2\\lib\n",
      "      libraries ptf77blas,ptcblas,atlas not found in C:\\\n",
      "      libraries lapack_atlas not found in C:\\\n",
      "      libraries ptf77blas,ptcblas,atlas not found in C:\\Users\\songsu\\AppData\\Local\\Continuum\\Anaconda2\\libs\n",
      "      libraries lapack_atlas not found in C:\\Users\\songsu\\AppData\\Local\\Continuum\\Anaconda2\\libs\n",
      "    numpy.distutils.system_info.atlas_threads_info\n",
      "      NOT AVAILABLE\n",
      "    \n",
      "    atlas_info:\n",
      "      libraries f77blas,cblas,atlas not found in C:\\Users\\songsu\\AppData\\Local\\Continuum\\Anaconda2\\lib\n",
      "      libraries lapack_atlas not found in C:\\Users\\songsu\\AppData\\Local\\Continuum\\Anaconda2\\lib\n",
      "      libraries f77blas,cblas,atlas not found in C:\\\n",
      "      libraries lapack_atlas not found in C:\\\n",
      "      libraries f77blas,cblas,atlas not found in C:\\Users\\songsu\\AppData\\Local\\Continuum\\Anaconda2\\libs\n",
      "      libraries lapack_atlas not found in C:\\Users\\songsu\\AppData\\Local\\Continuum\\Anaconda2\\libs\n",
      "    numpy.distutils.system_info.atlas_info\n",
      "      NOT AVAILABLE\n",
      "    \n",
      "    c:\\users\\songsu\\appdata\\local\\temp\\pip-build-o5qff8\\numpy\\numpy\\distutils\\system_info.py:1505: UserWarning:\n",
      "        Atlas (http://math-atlas.sourceforge.net/) libraries not found.\n",
      "        Directories to search for the libraries can be specified in the\n",
      "        numpy/distutils/site.cfg file (section [atlas]) or by setting\n",
      "        the ATLAS environment variable.\n",
      "      warnings.warn(AtlasNotFoundError.__doc__)\n",
      "    lapack_info:\n",
      "      libraries lapack not found in ['C:\\\\Users\\\\songsu\\\\AppData\\\\Local\\\\Continuum\\\\Anaconda2\\\\lib', 'C:\\\\', 'C:\\\\Users\\\\songsu\\\\AppData\\\\Local\\\\Continuum\\\\Anaconda2\\\\libs']\n",
      "      NOT AVAILABLE\n",
      "    \n",
      "    c:\\users\\songsu\\appdata\\local\\temp\\pip-build-o5qff8\\numpy\\numpy\\distutils\\system_info.py:1516: UserWarning:\n",
      "        Lapack (http://www.netlib.org/lapack/) libraries not found.\n",
      "        Directories to search for the libraries can be specified in the\n",
      "        numpy/distutils/site.cfg file (section [lapack]) or by setting\n",
      "        the LAPACK environment variable.\n",
      "      warnings.warn(LapackNotFoundError.__doc__)\n",
      "    lapack_src_info:\n",
      "      NOT AVAILABLE\n",
      "    \n",
      "    c:\\users\\songsu\\appdata\\local\\temp\\pip-build-o5qff8\\numpy\\numpy\\distutils\\system_info.py:1519: UserWarning:\n",
      "        Lapack (http://www.netlib.org/lapack/) sources not found.\n",
      "        Directories to search for the sources can be specified in the\n",
      "        numpy/distutils/site.cfg file (section [lapack_src]) or by setting\n",
      "        the LAPACK_SRC environment variable.\n",
      "      warnings.warn(LapackSrcNotFoundError.__doc__)\n",
      "      NOT AVAILABLE\n",
      "    \n",
      "    C:\\Users\\songsu\\AppData\\Local\\Continuum\\Anaconda2\\lib\\distutils\\dist.py:267: UserWarning: Unknown distribution option: 'define_macros'\n",
      "      warnings.warn(msg)\n",
      "    running install\n",
      "    running build\n",
      "    running config_cc\n",
      "    unifing config_cc, config, build_clib, build_ext, build commands --compiler options\n",
      "    running config_fc\n",
      "    unifing config_fc, config, build_clib, build_ext, build commands --fcompiler options\n",
      "    running build_src\n",
      "    build_src\n",
      "    building py_modules sources\n",
      "    building library \"npymath\" sources\n",
      "    No module named msvccompiler in numpy.distutils; trying from distutils\n",
      "    error: Microsoft Visual C++ 9.0 is required. Get it from http://aka.ms/vcpython27\n",
      "    \n",
      "    ----------------------------------------\n",
      "  Rolling back uninstall of numpy\n"
     ]
    },
    {
     "name": "stderr",
     "output_type": "stream",
     "text": [
      "  Failed building wheel for numpy\n",
      "Command \"C:\\Users\\songsu\\AppData\\Local\\Continuum\\Anaconda2\\python.exe -u -c \"import setuptools, tokenize;__file__='c:\\\\users\\\\songsu\\\\appdata\\\\local\\\\temp\\\\pip-build-o5qff8\\\\numpy\\\\setup.py';f=getattr(tokenize, 'open', open)(__file__);code=f.read().replace('\\r\\n', '\\n');f.close();exec(compile(code, __file__, 'exec'))\" install --record c:\\users\\songsu\\appdata\\local\\temp\\pip-to119c-record\\install-record.txt --single-version-externally-managed --compile\" failed with error code 1 in c:\\users\\songsu\\appdata\\local\\temp\\pip-build-o5qff8\\numpy\\\n"
     ]
    }
   ],
   "source": [
    "!pip install -r requirements.txt"
   ]
  },
  {
   "cell_type": "code",
   "execution_count": 2,
   "metadata": {
    "collapsed": true
   },
   "outputs": [],
   "source": [
    "import os\n",
    "from sklearn.feature_extraction.text import CountVectorizer\n",
    "from sklearn.ensemble import RandomForestClassifier\n",
    "from KaggleWord2VecUtility import KaggleWord2VecUtility\n",
    "import pandas as pd\n",
    "import numpy as np\n",
    "import twitter"
   ]
  },
  {
   "cell_type": "code",
   "execution_count": 3,
   "metadata": {
    "collapsed": false
   },
   "outputs": [],
   "source": [
    "if __name__ == '__main__':\n",
    "    train = pd.read_csv('C:\\Users\\songsu\\Desktop\\Training Data\\Compiled.csv',delimiter=\",\",\\\n",
    "                        header=None,names=['text','sentiment'])\n",
    "    test = pd.read_csv('C:\\Users\\songsu\\Desktop\\Sentiment Analysis\\TestFile.csv', delimiter=\",\",\\\n",
    "                        header=None,names=['Search Term','text'])"
   ]
  },
  {
   "cell_type": "code",
   "execution_count": 4,
   "metadata": {
    "collapsed": false
   },
   "outputs": [],
   "source": [
    "#print train"
   ]
  },
  {
   "cell_type": "code",
   "execution_count": 5,
   "metadata": {
    "collapsed": false
   },
   "outputs": [
    {
     "data": {
      "text/html": [
       "<div>\n",
       "<table border=\"1\" class=\"dataframe\">\n",
       "  <thead>\n",
       "    <tr style=\"text-align: right;\">\n",
       "      <th></th>\n",
       "      <th>text</th>\n",
       "      <th>sentiment</th>\n",
       "    </tr>\n",
       "  </thead>\n",
       "  <tbody>\n",
       "    <tr>\n",
       "      <th>0</th>\n",
       "      <td>Now all @Apple has to do is get swype on the i...</td>\n",
       "      <td>positive</td>\n",
       "    </tr>\n",
       "    <tr>\n",
       "      <th>1</th>\n",
       "      <td>Hilarious @youtube video - guy does a duet wit...</td>\n",
       "      <td>positive</td>\n",
       "    </tr>\n",
       "    <tr>\n",
       "      <th>2</th>\n",
       "      <td>@RIM you made it too easy for me to switch to ...</td>\n",
       "      <td>positive</td>\n",
       "    </tr>\n",
       "    <tr>\n",
       "      <th>3</th>\n",
       "      <td>The 16 strangest things Siri has said so far. ...</td>\n",
       "      <td>positive</td>\n",
       "    </tr>\n",
       "    <tr>\n",
       "      <th>4</th>\n",
       "      <td>Great up close &amp; personal event @Apple tonight...</td>\n",
       "      <td>positive</td>\n",
       "    </tr>\n",
       "    <tr>\n",
       "      <th>5</th>\n",
       "      <td>From which companies do you experience the bes...</td>\n",
       "      <td>positive</td>\n",
       "    </tr>\n",
       "    <tr>\n",
       "      <th>6</th>\n",
       "      <td>Just apply for a job at @Apple, hope they call...</td>\n",
       "      <td>positive</td>\n",
       "    </tr>\n",
       "    <tr>\n",
       "      <th>7</th>\n",
       "      <td>Lmao I think @apple is onto something magical!...</td>\n",
       "      <td>positive</td>\n",
       "    </tr>\n",
       "    <tr>\n",
       "      <th>8</th>\n",
       "      <td>RT @PhillipRowntree: Just registered as an @ap...</td>\n",
       "      <td>positive</td>\n",
       "    </tr>\n",
       "  </tbody>\n",
       "</table>\n",
       "</div>"
      ],
      "text/plain": [
       "                                                text sentiment\n",
       "0  Now all @Apple has to do is get swype on the i...  positive\n",
       "1  Hilarious @youtube video - guy does a duet wit...  positive\n",
       "2  @RIM you made it too easy for me to switch to ...  positive\n",
       "3  The 16 strangest things Siri has said so far. ...  positive\n",
       "4  Great up close & personal event @Apple tonight...  positive\n",
       "5  From which companies do you experience the bes...  positive\n",
       "6  Just apply for a job at @Apple, hope they call...  positive\n",
       "7  Lmao I think @apple is onto something magical!...  positive\n",
       "8  RT @PhillipRowntree: Just registered as an @ap...  positive"
      ]
     },
     "execution_count": 5,
     "metadata": {},
     "output_type": "execute_result"
    }
   ],
   "source": [
    "train[0:9]"
   ]
  },
  {
   "cell_type": "code",
   "execution_count": 6,
   "metadata": {
    "collapsed": false
   },
   "outputs": [
    {
     "data": {
      "text/html": [
       "<div>\n",
       "<table border=\"1\" class=\"dataframe\">\n",
       "  <thead>\n",
       "    <tr style=\"text-align: right;\">\n",
       "      <th></th>\n",
       "      <th>Search Term</th>\n",
       "      <th>text</th>\n",
       "    </tr>\n",
       "  </thead>\n",
       "  <tbody>\n",
       "    <tr>\n",
       "      <th>0</th>\n",
       "      <td>#AmericanAirlines</td>\n",
       "      <td>@AmericanAir I shouldn't be surprised, but the...</td>\n",
       "    </tr>\n",
       "    <tr>\n",
       "      <th>1</th>\n",
       "      <td>#AmericanAirlines</td>\n",
       "      <td>RT @patstravelrevu: #AmericanAirlines #B787 #D...</td>\n",
       "    </tr>\n",
       "    <tr>\n",
       "      <th>2</th>\n",
       "      <td>#AmericanAirlines</td>\n",
       "      <td>#AmericanAirlines #B787 #Dreamliner #BusinessS...</td>\n",
       "    </tr>\n",
       "    <tr>\n",
       "      <th>3</th>\n",
       "      <td>#AmericanAirlines</td>\n",
       "      <td>Douglas DC-3 \"Flagship Orange County\" american...</td>\n",
       "    </tr>\n",
       "    <tr>\n",
       "      <th>4</th>\n",
       "      <td>#AmericanAirlines</td>\n",
       "      <td>@AmericanAir NEVER give your Advantage Card to...</td>\n",
       "    </tr>\n",
       "    <tr>\n",
       "      <th>5</th>\n",
       "      <td>#AmericanAirlines</td>\n",
       "      <td>Tired but happy aircraft will land soon #ameri...</td>\n",
       "    </tr>\n",
       "    <tr>\n",
       "      <th>6</th>\n",
       "      <td>#AmericanAirlines</td>\n",
       "      <td>American airlines to dallas 😊😉 I feel what c...</td>\n",
       "    </tr>\n",
       "    <tr>\n",
       "      <th>7</th>\n",
       "      <td>#AmericanAirlines</td>\n",
       "      <td>#AmericanAirlines #FlagShip Classic #BusinessC...</td>\n",
       "    </tr>\n",
       "    <tr>\n",
       "      <th>8</th>\n",
       "      <td>#AmericanAirlines</td>\n",
       "      <td>almost there #americanairlines https://t.co/BN...</td>\n",
       "    </tr>\n",
       "  </tbody>\n",
       "</table>\n",
       "</div>"
      ],
      "text/plain": [
       "         Search Term                                               text\n",
       "0  #AmericanAirlines  @AmericanAir I shouldn't be surprised, but the...\n",
       "1  #AmericanAirlines  RT @patstravelrevu: #AmericanAirlines #B787 #D...\n",
       "2  #AmericanAirlines  #AmericanAirlines #B787 #Dreamliner #BusinessS...\n",
       "3  #AmericanAirlines  Douglas DC-3 \"Flagship Orange County\" american...\n",
       "4  #AmericanAirlines  @AmericanAir NEVER give your Advantage Card to...\n",
       "5  #AmericanAirlines  Tired but happy aircraft will land soon #ameri...\n",
       "6  #AmericanAirlines  American airlines to dallas 😊😉 I feel what c...\n",
       "7  #AmericanAirlines  #AmericanAirlines #FlagShip Classic #BusinessC...\n",
       "8  #AmericanAirlines  almost there #americanairlines https://t.co/BN..."
      ]
     },
     "execution_count": 6,
     "metadata": {},
     "output_type": "execute_result"
    }
   ],
   "source": [
    "test[0:9]"
   ]
  },
  {
   "cell_type": "code",
   "execution_count": 7,
   "metadata": {
    "collapsed": false
   },
   "outputs": [
    {
     "data": {
      "text/plain": [
       "\"Hilarious @youtube video - guy does a duet with @apple 's Siri. Pretty much sums up the love affair! http://t.co/8ExbnQjY\""
      ]
     },
     "execution_count": 7,
     "metadata": {},
     "output_type": "execute_result"
    }
   ],
   "source": [
    "train[\"text\"][1]"
   ]
  },
  {
   "cell_type": "code",
   "execution_count": 8,
   "metadata": {
    "collapsed": false
   },
   "outputs": [
    {
     "data": {
      "text/plain": [
       "'RT @patstravelrevu: #AmericanAirlines #B787 #Dreamliner #BusinessSuites Review https://t.co/wu2KggtHop #avgeek #aviation #Boeing #Americana\\xe2\\x80\\xa6'"
      ]
     },
     "execution_count": 8,
     "metadata": {},
     "output_type": "execute_result"
    }
   ],
   "source": [
    "test[\"text\"][1]"
   ]
  },
  {
   "cell_type": "code",
   "execution_count": 9,
   "metadata": {
    "collapsed": false
   },
   "outputs": [
    {
     "name": "stderr",
     "output_type": "stream",
     "text": [
      "C:\\Users\\songsu\\AppData\\Local\\Continuum\\Anaconda2\\lib\\site-packages\\bs4\\__init__.py:181: UserWarning: No parser was explicitly specified, so I'm using the best available HTML parser for this system (\"lxml\"). This usually isn't a problem, but if you run this code on another system, or in a different virtual environment, it may use a different parser and behave differently.\n",
      "\n",
      "The code that caused this warning is on line 174 of the file C:\\Users\\songsu\\AppData\\Local\\Continuum\\Anaconda2\\lib\\runpy.py. To get rid of this warning, change code that looks like this:\n",
      "\n",
      " BeautifulSoup([your markup])\n",
      "\n",
      "to this:\n",
      "\n",
      " BeautifulSoup([your markup], \"lxml\")\n",
      "\n",
      "  markup_type=markup_type))\n"
     ]
    }
   ],
   "source": [
    "# Initialize an empty list to hold the clean reviews\n",
    "clean_train_reviews = []\n",
    "\n",
    "# Loop over each review; create an index i that goes from 0 to the length\n",
    "# of the movie review list\n",
    "\n",
    "#print \"Cleaning and parsing the training set movie reviews...\\n\"\n",
    "for i in xrange( 0, len(train['text'])):\n",
    "    clean_train_reviews.append(' '.join(KaggleWord2VecUtility.review_to_wordlist(train[\"text\"][i], True)))"
   ]
  },
  {
   "cell_type": "code",
   "execution_count": 10,
   "metadata": {
    "collapsed": false
   },
   "outputs": [],
   "source": [
    "# Initialize an empty list to hold the clean reviews\n",
    "clean_test_reviews = []\n",
    "\n",
    "# Loop over each review; create an index i that goes from 0 to the length\n",
    "# of the movie review list\n",
    "\n",
    "#print \"Cleaning and parsing the training set movie reviews...\\n\"\n",
    "for i in xrange( 0, len(test['text'])):\n",
    "    clean_test_reviews.append(' '.join(KaggleWord2VecUtility.review_to_wordlist(test[\"text\"][i], True)))"
   ]
  },
  {
   "cell_type": "code",
   "execution_count": 11,
   "metadata": {
    "collapsed": false
   },
   "outputs": [],
   "source": [
    "#print \"Creating the bag of words...\\n\"\n",
    "\n",
    "\n",
    "# Initialize the \"CountVectorizer\" object, which is scikit-learn's\n",
    "# bag of words tool.\n",
    "vectorizer = CountVectorizer(analyzer = \"word\",   \\\n",
    "                             tokenizer = None,    \\\n",
    "                             preprocessor = None, \\\n",
    "                             stop_words = None,   \\\n",
    "                             max_features = 5000)\n",
    "\n",
    "    # fit_transform() does two functions: First, it fits the model\n",
    "    # and learns the vocabulary; second, it transforms our training data\n",
    "    # into feature vectors. The input to fit_transform should be a list of\n",
    "    # strings.\n",
    "train_data_features = vectorizer.fit_transform(clean_train_reviews)\n"
   ]
  },
  {
   "cell_type": "code",
   "execution_count": 12,
   "metadata": {
    "collapsed": false
   },
   "outputs": [
    {
     "data": {
      "text/plain": [
       "array(<24493x5000 sparse matrix of type '<type 'numpy.int64'>'\n",
       "\twith 199681 stored elements in Compressed Sparse Row format>, dtype=object)"
      ]
     },
     "execution_count": 12,
     "metadata": {},
     "output_type": "execute_result"
    }
   ],
   "source": [
    "    # Numpy arrays are easy to work with, so convert the result to an\n",
    "    # array\n",
    "np.asarray(train_data_features)"
   ]
  },
  {
   "cell_type": "code",
   "execution_count": 13,
   "metadata": {
    "collapsed": false
   },
   "outputs": [],
   "source": [
    "    # ******* Train a random forest using the bag of words\n",
    "    #\n",
    "#print \"Training the random forest (this may take a while)...\"\n",
    "\n",
    "\n",
    "    # Initialize a Random Forest classifier with 100 trees\n",
    "forest = RandomForestClassifier(n_estimators = 100)\n"
   ]
  },
  {
   "cell_type": "code",
   "execution_count": 14,
   "metadata": {
    "collapsed": false
   },
   "outputs": [],
   "source": [
    "    # Fit the forest to the training set, using the bag of words as\n",
    "    # features and the sentiment labels as the response variable"
   ]
  },
  {
   "cell_type": "code",
   "execution_count": 15,
   "metadata": {
    "collapsed": true
   },
   "outputs": [],
   "source": [
    "    # This may take a few minutes to run\n",
    "forest = forest.fit( train_data_features, train[\"sentiment\"] )\n"
   ]
  },
  {
   "cell_type": "code",
   "execution_count": 16,
   "metadata": {
    "collapsed": false
   },
   "outputs": [],
   "source": [
    "    # Get a bag of words for the test set, and convert to a numpy array\n",
    "test_data_features = vectorizer.transform(clean_test_reviews)\n",
    "np.asarray(test_data_features)\n",
    "\n",
    "    # Use the random forest to make sentiment label predictions\n",
    "#print \"Predicting test labels...\\n\"\n",
    "result = forest.predict(test_data_features)\n",
    "\n",
    "    # Copy the results to a pandas dataframe with an \"id\" column and\n",
    "    # a \"sentiment\" column\n",
    "output = pd.DataFrame( data={\"Search Term\":test[\"Search Term\"], \"Tweets\":test[\"text\"],\"Sentiment\":result} )\n"
   ]
  },
  {
   "cell_type": "code",
   "execution_count": 17,
   "metadata": {
    "collapsed": true
   },
   "outputs": [],
   "source": [
    "ResultLabelFile='C:/Users/songsu/Desktop/Spotfire_Sentiment Analysis/Result_RandomForest.csv'"
   ]
  },
  {
   "cell_type": "code",
   "execution_count": 18,
   "metadata": {
    "collapsed": false
   },
   "outputs": [],
   "source": [
    "# Write the result to csvfile to be imported to Spotfire\n",
    "def WriteResultToCSV(output, ResultLabelFile):\n",
    "    import csv\n",
    "    with open(ResultLabelFile,'wb') as csvfile:\n",
    "        linewriter=csv.writer(csvfile,delimiter=',',quotechar=\"\\\"\")\n",
    "        for row in range(0,len(output)):\n",
    "            try:\n",
    "                linewriter.writerow([output['Tweets'][row],output['Search Term'][row],output['Sentiment'][row]])\n",
    "            except Exception:\n",
    "                print \"error\"\n",
    "    return None\n",
    "\n"
   ]
  },
  {
   "cell_type": "code",
   "execution_count": 19,
   "metadata": {
    "collapsed": false
   },
   "outputs": [
    {
     "data": {
      "text/plain": [
       "'RT @patstravelrevu: #AmericanAirlines #B787 #Dreamliner #BusinessSuites Review https://t.co/wu2KggtHop #avgeek #aviation #Boeing #Americana\\xe2\\x80\\xa6'"
      ]
     },
     "execution_count": 19,
     "metadata": {},
     "output_type": "execute_result"
    }
   ],
   "source": [
    "output['Tweets'][1]"
   ]
  },
  {
   "cell_type": "code",
   "execution_count": 20,
   "metadata": {
    "collapsed": false
   },
   "outputs": [],
   "source": [
    "Result=WriteResultToCSV(output,ResultLabelFile)\n",
    "# Result=WriteResultToCSV(testData,NBResultLabels,search_string,ResultLabelFile)"
   ]
  },
  {
   "cell_type": "code",
   "execution_count": null,
   "metadata": {
    "collapsed": true
   },
   "outputs": [],
   "source": []
  }
 ],
 "metadata": {
  "kernelspec": {
   "display_name": "Python 2",
   "language": "python",
   "name": "python2"
  },
  "language_info": {
   "codemirror_mode": {
    "name": "ipython",
    "version": 2
   },
   "file_extension": ".py",
   "mimetype": "text/x-python",
   "name": "python",
   "nbconvert_exporter": "python",
   "pygments_lexer": "ipython2",
   "version": "2.7.13"
  }
 },
 "nbformat": 4,
 "nbformat_minor": 2
}
